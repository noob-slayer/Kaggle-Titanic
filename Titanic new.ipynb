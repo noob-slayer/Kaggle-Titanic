{
 "cells": [
  {
   "cell_type": "code",
   "execution_count": 53,
   "metadata": {
    "collapsed": false
   },
   "outputs": [],
   "source": [
    "import pandas as pd\n",
    "import numpy as np\n",
    "from sklearn.model_selection import train_test_split\n",
    "from sklearn.ensemble import RandomForestClassifier\n",
    "\n",
    "from sklearn.neural_network import MLPClassifier\n",
    "import matplotlib.pyplot as plt\n",
    "%matplotlib inline\n",
    "import random\n",
    "import numpy as np\n",
    "import pandas as pd\n",
    "from sklearn import datasets, svm, cross_validation, tree, preprocessing, metrics\n",
    "import sklearn.ensemble as ske\n",
    "#import tensorflow as tf\n",
    "#from tensorflow.contrib import skflow"
   ]
  },
  {
   "cell_type": "code",
   "execution_count": 54,
   "metadata": {
    "collapsed": false
   },
   "outputs": [],
   "source": [
    "loc_train=\"/home/siddharth/Documents/Titanic/train.csv\"\n",
    "loc_test=\"/home/siddharth/Documents/Titanic/test.csv\"\n",
    "train=pd.read_csv(loc_train)\n",
    "test=pd.read_csv(loc_test)\n",
    "#print (train.info())\n",
    "#print (train.describe())\n",
    "\n",
    "\n",
    "target=train.Survived\n",
    "train.drop('Survived',axis=1,inplace=True)\n",
    "\n",
    "#missing values only in age\n",
    "combined=train.append(test)\n",
    "combined.reset_index(inplace=True)\n",
    "combined.drop('index',axis=1,inplace=True)\n",
    "#print (combined.head())\n",
    "#print (combined.describe())"
   ]
  },
  {
   "cell_type": "code",
   "execution_count": 55,
   "metadata": {
    "collapsed": false
   },
   "outputs": [
    {
     "name": "stdout",
     "output_type": "stream",
     "text": [
      "       PassengerId       Pclass          Age        SibSp        Parch  \\\n",
      "count  1309.000000  1309.000000  1046.000000  1309.000000  1309.000000   \n",
      "mean    655.000000     2.294882    29.881138     0.498854     0.385027   \n",
      "std     378.020061     0.837836    14.413493     1.041658     0.865560   \n",
      "min       1.000000     1.000000     0.170000     0.000000     0.000000   \n",
      "25%     328.000000     2.000000    21.000000     0.000000     0.000000   \n",
      "50%     655.000000     3.000000    28.000000     0.000000     0.000000   \n",
      "75%     982.000000     3.000000    39.000000     1.000000     0.000000   \n",
      "max    1309.000000     3.000000    80.000000     8.000000     9.000000   \n",
      "\n",
      "              Fare  \n",
      "count  1308.000000  \n",
      "mean     33.295479  \n",
      "std      51.758668  \n",
      "min       0.000000  \n",
      "25%       7.895800  \n",
      "50%      14.454200  \n",
      "75%      31.275000  \n",
      "max     512.329200  \n"
     ]
    }
   ],
   "source": [
    "#def get_title():\n",
    "#    combined['Title']=combined['Name'].map(lambda x: x.split(',')[1].split('.')[0].strip())\n",
    "#    combined.drop('Name',axis=1,inplace=True)\n",
    "#    return combined\n",
    "def get_titles():\n",
    "\n",
    "\n",
    "    \n",
    "    # we extract the title from each name\n",
    "    combined['Title'] = combined['Name'].map(lambda name:name.split(',')[1].split('.')[0].strip())\n",
    "    \n",
    "    # a map of more aggregated titles\n",
    "    Title_Dictionary = {\n",
    "                        \"Capt\":       \"Officer\",\n",
    "                        \"Col\":        \"Officer\",\n",
    "                        \"Major\":      \"Officer\",\n",
    "                        \"Jonkheer\":   \"Royalty\",\n",
    "                        \"Don\":        \"Royalty\",\n",
    "                        \"Sir\" :       \"Royalty\",\n",
    "                        \"Dr\":         \"Officer\",\n",
    "                        \"Rev\":        \"Officer\",\n",
    "                        \"the Countess\":\"Royalty\",\n",
    "                        \"Dona\":       \"Royalty\",\n",
    "                        \"Mme\":        \"Mrs\",\n",
    "                        \"Mlle\":       \"Miss\",\n",
    "                        \"Ms\":         \"Mrs\",\n",
    "                        \"Mr\" :        \"Mr\",\n",
    "                        \"Mrs\" :       \"Mrs\",\n",
    "                        \"Miss\" :      \"Miss\",\n",
    "                        \"Master\" :    \"Master\",\n",
    "                        \"Lady\" :      \"Royalty\"\n",
    "\n",
    "                        }\n",
    "    \n",
    "    # we map each title\n",
    "    combined['Title'] = combined.Title.map(Title_Dictionary)\n",
    "    combined.drop('Name',axis=1,inplace=True)\n",
    "get_titles()\n",
    "\n",
    "print (combined.describe())\n"
   ]
  },
  {
   "cell_type": "code",
   "execution_count": 56,
   "metadata": {
    "collapsed": true
   },
   "outputs": [],
   "source": [
    "grouped_train = combined.head(891).groupby(['Sex','Pclass','Title'])\n",
    "grouped_median_train = grouped_train.median()\n",
    "\n",
    "grouped_test = combined.iloc[891:].groupby(['Sex','Pclass','Title'])\n",
    "grouped_median_test = grouped_test.median()"
   ]
  },
  {
   "cell_type": "code",
   "execution_count": 57,
   "metadata": {
    "collapsed": false
   },
   "outputs": [
    {
     "name": "stderr",
     "output_type": "stream",
     "text": [
      "/home/siddharth/anaconda3/lib/python3.6/site-packages/pandas/core/generic.py:2773: SettingWithCopyWarning: \n",
      "A value is trying to be set on a copy of a slice from a DataFrame.\n",
      "Try using .loc[row_indexer,col_indexer] = value instead\n",
      "\n",
      "See the caveats in the documentation: http://pandas.pydata.org/pandas-docs/stable/indexing.html#indexing-view-versus-copy\n",
      "  self[name] = value\n"
     ]
    },
    {
     "data": {
      "text/html": [
       "<div>\n",
       "<table border=\"1\" class=\"dataframe\">\n",
       "  <thead>\n",
       "    <tr style=\"text-align: right;\">\n",
       "      <th></th>\n",
       "      <th>PassengerId</th>\n",
       "      <th>Pclass</th>\n",
       "      <th>Sex</th>\n",
       "      <th>Age</th>\n",
       "      <th>SibSp</th>\n",
       "      <th>Parch</th>\n",
       "      <th>Ticket</th>\n",
       "      <th>Fare</th>\n",
       "      <th>Cabin</th>\n",
       "      <th>Embarked</th>\n",
       "      <th>Title</th>\n",
       "    </tr>\n",
       "  </thead>\n",
       "  <tbody>\n",
       "    <tr>\n",
       "      <th>0</th>\n",
       "      <td>1</td>\n",
       "      <td>3</td>\n",
       "      <td>0</td>\n",
       "      <td>22.0</td>\n",
       "      <td>1</td>\n",
       "      <td>0</td>\n",
       "      <td>A/5 21171</td>\n",
       "      <td>7.2500</td>\n",
       "      <td>NaN</td>\n",
       "      <td>S</td>\n",
       "      <td>Mr</td>\n",
       "    </tr>\n",
       "    <tr>\n",
       "      <th>1</th>\n",
       "      <td>2</td>\n",
       "      <td>1</td>\n",
       "      <td>1</td>\n",
       "      <td>38.0</td>\n",
       "      <td>1</td>\n",
       "      <td>0</td>\n",
       "      <td>PC 17599</td>\n",
       "      <td>71.2833</td>\n",
       "      <td>C85</td>\n",
       "      <td>C</td>\n",
       "      <td>Mrs</td>\n",
       "    </tr>\n",
       "    <tr>\n",
       "      <th>2</th>\n",
       "      <td>3</td>\n",
       "      <td>3</td>\n",
       "      <td>1</td>\n",
       "      <td>26.0</td>\n",
       "      <td>0</td>\n",
       "      <td>0</td>\n",
       "      <td>STON/O2. 3101282</td>\n",
       "      <td>7.9250</td>\n",
       "      <td>NaN</td>\n",
       "      <td>S</td>\n",
       "      <td>Miss</td>\n",
       "    </tr>\n",
       "    <tr>\n",
       "      <th>3</th>\n",
       "      <td>4</td>\n",
       "      <td>1</td>\n",
       "      <td>1</td>\n",
       "      <td>35.0</td>\n",
       "      <td>1</td>\n",
       "      <td>0</td>\n",
       "      <td>113803</td>\n",
       "      <td>53.1000</td>\n",
       "      <td>C123</td>\n",
       "      <td>S</td>\n",
       "      <td>Mrs</td>\n",
       "    </tr>\n",
       "    <tr>\n",
       "      <th>4</th>\n",
       "      <td>5</td>\n",
       "      <td>3</td>\n",
       "      <td>0</td>\n",
       "      <td>35.0</td>\n",
       "      <td>0</td>\n",
       "      <td>0</td>\n",
       "      <td>373450</td>\n",
       "      <td>8.0500</td>\n",
       "      <td>NaN</td>\n",
       "      <td>S</td>\n",
       "      <td>Mr</td>\n",
       "    </tr>\n",
       "  </tbody>\n",
       "</table>\n",
       "</div>"
      ],
      "text/plain": [
       "   PassengerId  Pclass  Sex   Age  SibSp  Parch            Ticket     Fare  \\\n",
       "0            1       3    0  22.0      1      0         A/5 21171   7.2500   \n",
       "1            2       1    1  38.0      1      0          PC 17599  71.2833   \n",
       "2            3       3    1  26.0      0      0  STON/O2. 3101282   7.9250   \n",
       "3            4       1    1  35.0      1      0            113803  53.1000   \n",
       "4            5       3    0  35.0      0      0            373450   8.0500   \n",
       "\n",
       "  Cabin Embarked Title  \n",
       "0   NaN        S    Mr  \n",
       "1   C85        C   Mrs  \n",
       "2   NaN        S  Miss  \n",
       "3  C123        S   Mrs  \n",
       "4   NaN        S    Mr  "
      ]
     },
     "execution_count": 57,
     "metadata": {},
     "output_type": "execute_result"
    }
   ],
   "source": [
    "\n",
    "\n",
    "def process_age():\n",
    "    \n",
    "    \n",
    "    # a function that fills the missing values of the Age variable\n",
    "    \n",
    "    def fillAges(row, grouped_median):\n",
    "        if row['Sex']=='female' and row['Pclass'] == 1:\n",
    "            if row['Title'] == 'Miss':\n",
    "                return grouped_median.loc['female', 1, 'Miss']['Age']\n",
    "            elif row['Title'] == 'Mrs':\n",
    "                return grouped_median.loc['female', 1, 'Mrs']['Age']\n",
    "            elif row['Title'] == 'Officer':\n",
    "                return grouped_median.loc['female', 1, 'Officer']['Age']\n",
    "            elif row['Title'] == 'Royalty':\n",
    "                return grouped_median.loc['female', 1, 'Royalty']['Age']\n",
    "\n",
    "        elif row['Sex']=='female' and row['Pclass'] == 2:\n",
    "            if row['Title'] == 'Miss':\n",
    "                return grouped_median.loc['female', 2, 'Miss']['Age']\n",
    "            elif row['Title'] == 'Mrs':\n",
    "                return grouped_median.loc['female', 2, 'Mrs']['Age']\n",
    "\n",
    "        elif row['Sex']=='female' and row['Pclass'] == 3:\n",
    "            if row['Title'] == 'Miss':\n",
    "                return grouped_median.loc['female', 3, 'Miss']['Age']\n",
    "            elif row['Title'] == 'Mrs':\n",
    "                return grouped_median.loc['female', 3, 'Mrs']['Age']\n",
    "\n",
    "        elif row['Sex']=='male' and row['Pclass'] == 1:\n",
    "            if row['Title'] == 'Master':\n",
    "                return grouped_median.loc['male', 1, 'Master']['Age']\n",
    "            elif row['Title'] == 'Mr':\n",
    "                return grouped_median.loc['male', 1, 'Mr']['Age']\n",
    "            elif row['Title'] == 'Officer':\n",
    "                return grouped_median.loc['male', 1, 'Officer']['Age']\n",
    "            elif row['Title'] == 'Royalty':\n",
    "                return grouped_median.loc['male', 1, 'Royalty']['Age']\n",
    "\n",
    "        elif row['Sex']=='male' and row['Pclass'] == 2:\n",
    "            if row['Title'] == 'Master':\n",
    "                return grouped_median.loc['male', 2, 'Master']['Age']\n",
    "            elif row['Title'] == 'Mr':\n",
    "                return grouped_median.loc['male', 2, 'Mr']['Age']\n",
    "            elif row['Title'] == 'Officer':\n",
    "                return grouped_median.loc['male', 2, 'Officer']['Age']\n",
    "\n",
    "        elif row['Sex']=='male' and row['Pclass'] == 3:\n",
    "            if row['Title'] == 'Master':\n",
    "                return grouped_median.loc['male', 3, 'Master']['Age']\n",
    "            elif row['Title'] == 'Mr':\n",
    "                return grouped_median.loc['male', 3, 'Mr']['Age']\n",
    "    \n",
    "    combined.head(891).Age = combined.head(891).apply(lambda r : fillAges(r, grouped_median_train) if np.isnan(r['Age']) \n",
    "                                                      else r['Age'], axis=1)\n",
    "    \n",
    "    combined.iloc[891:].Age = combined.iloc[891:].apply(lambda r : fillAges(r, grouped_median_test) if np.isnan(r['Age']) \n",
    "                                                      else r['Age'], axis=1)\n",
    "    \n",
    "    \n",
    "process_age()\n",
    "\n",
    "def get_sex():\n",
    "    combined['Sex']=combined['Sex'].map({'male':0,'female':1})\n",
    "    return combined\n",
    "get_sex()\n",
    "combined.head()"
   ]
  },
  {
   "cell_type": "code",
   "execution_count": 58,
   "metadata": {
    "collapsed": true
   },
   "outputs": [],
   "source": [
    "#combined[\"Age\"] = combined.groupby(['Sex','Pclass','Title'])['Age'].transform(lambda x: x.fillna(x.median()))"
   ]
  },
  {
   "cell_type": "code",
   "execution_count": 59,
   "metadata": {
    "collapsed": false
   },
   "outputs": [
    {
     "name": "stdout",
     "output_type": "stream",
     "text": [
      "<class 'pandas.core.frame.DataFrame'>\n",
      "RangeIndex: 1309 entries, 0 to 1308\n",
      "Data columns (total 11 columns):\n",
      "PassengerId    1309 non-null int64\n",
      "Pclass         1309 non-null int64\n",
      "Sex            1309 non-null int64\n",
      "Age            1309 non-null float64\n",
      "SibSp          1309 non-null int64\n",
      "Parch          1309 non-null int64\n",
      "Ticket         1309 non-null object\n",
      "Fare           1308 non-null float64\n",
      "Cabin          295 non-null object\n",
      "Embarked       1307 non-null object\n",
      "Title          1309 non-null object\n",
      "dtypes: float64(2), int64(5), object(4)\n",
      "memory usage: 112.6+ KB\n"
     ]
    }
   ],
   "source": [
    "\n",
    "\n",
    "combined.info()"
   ]
  },
  {
   "cell_type": "code",
   "execution_count": 60,
   "metadata": {
    "collapsed": false
   },
   "outputs": [
    {
     "name": "stdout",
     "output_type": "stream",
     "text": [
      "       PassengerId       Pclass          Sex          Age        SibSp  \\\n",
      "count  1309.000000  1309.000000  1309.000000  1309.000000  1309.000000   \n",
      "mean    655.000000     2.294882     0.355997    29.223583     0.498854   \n",
      "std     378.020061     0.837836     0.478997    13.387233     1.041658   \n",
      "min       1.000000     1.000000     0.000000     0.170000     0.000000   \n",
      "25%     328.000000     2.000000     0.000000    21.000000     0.000000   \n",
      "50%     655.000000     3.000000     0.000000    26.000000     0.000000   \n",
      "75%     982.000000     3.000000     1.000000    36.500000     1.000000   \n",
      "max    1309.000000     3.000000     1.000000    80.000000     8.000000   \n",
      "\n",
      "             Parch         Fare  \n",
      "count  1309.000000  1309.000000  \n",
      "mean      0.385027    33.281086  \n",
      "std       0.865560    51.741500  \n",
      "min       0.000000     0.000000  \n",
      "25%       0.000000     7.895800  \n",
      "50%       0.000000    14.454200  \n",
      "75%       0.000000    31.275000  \n",
      "max       9.000000   512.329200  \n"
     ]
    }
   ],
   "source": [
    "\n",
    "combined.drop('Cabin',axis=1,inplace=True)\n",
    "combined['Embarked'].fillna('S',inplace=True)\n",
    "combined['Fare'].fillna(combined['Fare'].median(),inplace=True)\n",
    "\n",
    "#combined=combined.dropna()\n",
    "print (combined.describe())\n"
   ]
  },
  {
   "cell_type": "code",
   "execution_count": 61,
   "metadata": {
    "collapsed": false
   },
   "outputs": [
    {
     "name": "stdout",
     "output_type": "stream",
     "text": [
      "       PassengerId       Pclass          Sex          Age        SibSp  \\\n",
      "count  1309.000000  1309.000000  1309.000000  1309.000000  1309.000000   \n",
      "mean    655.000000     2.294882     0.355997    29.223583     0.498854   \n",
      "std     378.020061     0.837836     0.478997    13.387233     1.041658   \n",
      "min       1.000000     1.000000     0.000000     0.170000     0.000000   \n",
      "25%     328.000000     2.000000     0.000000    21.000000     0.000000   \n",
      "50%     655.000000     3.000000     0.000000    26.000000     0.000000   \n",
      "75%     982.000000     3.000000     1.000000    36.500000     1.000000   \n",
      "max    1309.000000     3.000000     1.000000    80.000000     8.000000   \n",
      "\n",
      "             Parch         Fare   Embarked_C   Embarked_Q   Embarked_S  \\\n",
      "count  1309.000000  1309.000000  1309.000000  1309.000000  1309.000000   \n",
      "mean      0.385027    33.281086     0.206264     0.093965     0.699771   \n",
      "std       0.865560    51.741500     0.404777     0.291891     0.458533   \n",
      "min       0.000000     0.000000     0.000000     0.000000     0.000000   \n",
      "25%       0.000000     7.895800     0.000000     0.000000     0.000000   \n",
      "50%       0.000000    14.454200     0.000000     0.000000     1.000000   \n",
      "75%       0.000000    31.275000     0.000000     0.000000     1.000000   \n",
      "max       9.000000   512.329200     1.000000     1.000000     1.000000   \n",
      "\n",
      "       Title_Master   Title_Miss     Title_Mr    Title_Mrs  Title_Officer  \\\n",
      "count   1309.000000  1309.000000  1309.000000  1309.000000    1309.000000   \n",
      "mean       0.046600     0.200153     0.578304     0.152788       0.017571   \n",
      "std        0.210862     0.400267     0.494019     0.359921       0.131435   \n",
      "min        0.000000     0.000000     0.000000     0.000000       0.000000   \n",
      "25%        0.000000     0.000000     0.000000     0.000000       0.000000   \n",
      "50%        0.000000     0.000000     1.000000     0.000000       0.000000   \n",
      "75%        0.000000     0.000000     1.000000     0.000000       0.000000   \n",
      "max        1.000000     1.000000     1.000000     1.000000       1.000000   \n",
      "\n",
      "       Title_Royalty  \n",
      "count    1309.000000  \n",
      "mean        0.004584  \n",
      "std         0.067573  \n",
      "min         0.000000  \n",
      "25%         0.000000  \n",
      "50%         0.000000  \n",
      "75%         0.000000  \n",
      "max         1.000000  \n"
     ]
    }
   ],
   "source": [
    "#combined['Age'].fillna(combined['Age'].median(),inplace=True)\n",
    "#combined.drop('Title',axis=1,inplace=True)\n",
    "#combined.drop('PassengerId',axis=1,inplace=True)\n",
    "combined.drop('Ticket',axis=1,inplace=True)\n",
    "\n",
    "titles_dummies = pd.get_dummies(combined['Embarked'],prefix='Embarked')\n",
    "combined = pd.concat([combined,titles_dummies],axis=1)\n",
    "combined.drop('Embarked',axis=1,inplace=True)\n",
    "\n",
    "titles_dummies = pd.get_dummies(combined['Title'],prefix='Title')\n",
    "combined = pd.concat([combined,titles_dummies],axis=1)\n",
    "combined.drop('Title',axis=1,inplace=True)\n",
    "print (combined.describe())\n",
    "\n",
    "\n",
    "\n",
    "\n"
   ]
  },
  {
   "cell_type": "code",
   "execution_count": 62,
   "metadata": {
    "collapsed": false
   },
   "outputs": [
    {
     "name": "stdout",
     "output_type": "stream",
     "text": [
      "<class 'pandas.core.frame.DataFrame'>\n",
      "RangeIndex: 891 entries, 0 to 890\n",
      "Data columns (total 16 columns):\n",
      "PassengerId      891 non-null int64\n",
      "Pclass           891 non-null int64\n",
      "Sex              891 non-null int64\n",
      "Age              891 non-null float64\n",
      "SibSp            891 non-null int64\n",
      "Parch            891 non-null int64\n",
      "Fare             891 non-null float64\n",
      "Embarked_C       891 non-null uint8\n",
      "Embarked_Q       891 non-null uint8\n",
      "Embarked_S       891 non-null uint8\n",
      "Title_Master     891 non-null uint8\n",
      "Title_Miss       891 non-null uint8\n",
      "Title_Mr         891 non-null uint8\n",
      "Title_Mrs        891 non-null uint8\n",
      "Title_Officer    891 non-null uint8\n",
      "Title_Royalty    891 non-null uint8\n",
      "dtypes: float64(2), int64(5), uint8(9)\n",
      "memory usage: 56.6 KB\n"
     ]
    }
   ],
   "source": [
    "train_new=combined[:891]\n",
    "test_new=combined[891:]\n",
    "\n",
    "X,x,Y,y=train_test_split(train_new,target,train_size=0.8)\n",
    "train_new.info()\n",
    "\n",
    "\n"
   ]
  },
  {
   "cell_type": "code",
   "execution_count": 69,
   "metadata": {
    "collapsed": false
   },
   "outputs": [
    {
     "data": {
      "text/plain": [
       "0.83798882681564246"
      ]
     },
     "execution_count": 69,
     "metadata": {},
     "output_type": "execute_result"
    }
   ],
   "source": [
    "clf=RandomForestClassifier(n_estimators=100)\n",
    "#clf=svm.SVC(C=10000.0,kernel='rbf')\n",
    "#clf = MLPClassifier()\n",
    "clf.fit(X,Y)\n",
    "clf.score(x,y)\n"
   ]
  },
  {
   "cell_type": "code",
   "execution_count": 70,
   "metadata": {
    "collapsed": false
   },
   "outputs": [
    {
     "data": {
      "text/plain": [
       "0.95173961840628507"
      ]
     },
     "execution_count": 70,
     "metadata": {},
     "output_type": "execute_result"
    }
   ],
   "source": [
    "clf_dt = tree.DecisionTreeClassifier(max_depth=10)\n",
    "clf_dt.fit (train_new,target)\n",
    "clf_dt.score (train_new,target)"
   ]
  },
  {
   "cell_type": "code",
   "execution_count": 73,
   "metadata": {
    "collapsed": false
   },
   "outputs": [
    {
     "data": {
      "text/plain": [
       "VotingClassifier(estimators=[('dt', DecisionTreeClassifier(class_weight=None, criterion='gini', max_depth=10,\n",
       "            max_features=None, max_leaf_nodes=None,\n",
       "            min_impurity_split=1e-07, min_samples_leaf=1,\n",
       "            min_samples_split=2, min_weight_fraction_leaf=0.0,\n",
       "            presort=False, random_...s=50, presort='auto', random_state=None,\n",
       "              subsample=1.0, verbose=0, warm_start=False))],\n",
       "         n_jobs=1, voting='hard', weights=None)"
      ]
     },
     "execution_count": 73,
     "metadata": {},
     "output_type": "execute_result"
    }
   ],
   "source": [
    "clf_rf = ske.RandomForestClassifier(n_estimators=50)\n",
    "#test_classifier(clf_rf)\n",
    "\n",
    "clf_gb = ske.GradientBoostingClassifier(n_estimators=50)\n",
    "#test_classifier(clf_gb)\n",
    "\n",
    "eclf = ske.VotingClassifier([('dt', clf_dt), ('rf', clf_rf), ('gb', clf_gb)])\n",
    "#test_classifier(eclf)\n",
    "\n",
    "eclf.fit(train_new,target)"
   ]
  },
  {
   "cell_type": "code",
   "execution_count": 74,
   "metadata": {
    "collapsed": true
   },
   "outputs": [],
   "source": [
    "pred=eclf.predict(test_new)"
   ]
  },
  {
   "cell_type": "code",
   "execution_count": 718,
   "metadata": {
    "collapsed": false
   },
   "outputs": [],
   "source": [
    "#clf=RandomForestClassifier(n_estimators=50)\n",
    "#clf.fit(train_new,target)"
   ]
  },
  {
   "cell_type": "code",
   "execution_count": 719,
   "metadata": {
    "collapsed": false
   },
   "outputs": [
    {
     "data": {
      "text/plain": [
       "<matplotlib.axes._subplots.AxesSubplot at 0x7f9de20e4dd8>"
      ]
     },
     "execution_count": 719,
     "metadata": {},
     "output_type": "execute_result"
    },
    {
     "data": {
      "image/png": "[encoded data removed]",
      "text/plain": [
       "<matplotlib.figure.Figure at 0x7f9de2174828>"
      ]
     },
     "metadata": {},
     "output_type": "display_data"
    }
   ],
   "source": [
    "\n",
    "features = pd.DataFrame()\n",
    "features['feature'] = X.columns\n",
    "features['importance'] = clf.feature_importances_\n",
    "features.sort_values(by=['importance'], ascending=True, inplace=True)\n",
    "features.set_index('feature', inplace=True)\n",
    "\n",
    "features.plot(kind='barh', figsize=(20, 20))"
   ]
  },
  {
   "cell_type": "code",
   "execution_count": 720,
   "metadata": {
    "collapsed": false
   },
   "outputs": [],
   "source": [
    "#pred=clf.predict(test_new)"
   ]
  },
  {
   "cell_type": "code",
   "execution_count": 75,
   "metadata": {
    "collapsed": true
   },
   "outputs": [],
   "source": [
    "output=pd.DataFrame()\n",
    "output['PassengerId']=test['PassengerId']\n",
    "output['Survived']=pred\n",
    "\n",
    "output[['PassengerId','Survived']].to_csv(\"/home/siddharth/Documents/Titanic/output_new.csv\",index=False)"
   ]
  },
  {
   "cell_type": "code",
   "execution_count": null,
   "metadata": {
    "collapsed": true
   },
   "outputs": [],
   "source": []
  }
 ],
 "metadata": {
  "kernelspec": {
   "display_name": "Python 3",
   "language": "python",
   "name": "python3"
  },
  "language_info": {
   "codemirror_mode": {
    "name": "ipython",
    "version": 3
   },
   "file_extension": ".py",
   "mimetype": "text/x-python",
   "name": "python",
   "nbconvert_exporter": "python",
   "pygments_lexer": "ipython3",
   "version": "3.6.0"
  }
 },
 "nbformat": 4,
 "nbformat_minor": 2
}
